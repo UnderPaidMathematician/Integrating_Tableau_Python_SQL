{
 "cells": [
  {
   "cell_type": "code",
   "execution_count": 1,
   "source": [
    "import pandas as pd\r\n",
    "import numpy as np\r\n",
    "\r\n",
    "my_data = pd.read_csv(r\"C:\\Users\\jason\\Documents\\GitHub\\Post_Masters_Training\\Integrating_Tableau_Python_SQL\\Data\\df_preprocessed.csv\")\r\n",
    "print(my_data.head())"
   ],
   "outputs": [
    {
     "output_type": "stream",
     "name": "stdout",
     "text": [
      "   Reason_1  Reason_2  Reason_3  Reason_4  Month Value  Day of the Week  \\\n",
      "0         0         0         0         1            7                1   \n",
      "1         0         0         0         0            7                1   \n",
      "2         0         0         0         1            7                2   \n",
      "3         1         0         0         0            7                3   \n",
      "4         0         0         0         1            7                3   \n",
      "\n",
      "   Transportation Expense  Distance to Work  Age  Daily Work Load Average  \\\n",
      "0                     289                36   33                  239.554   \n",
      "1                     118                13   50                  239.554   \n",
      "2                     179                51   38                  239.554   \n",
      "3                     279                 5   39                  239.554   \n",
      "4                     289                36   33                  239.554   \n",
      "\n",
      "   Body Mass Index  Education  Children  Pets  Absenteeism Time in Hours  \n",
      "0               30          0         2     1                          4  \n",
      "1               31          0         1     0                          0  \n",
      "2               31          0         0     0                          2  \n",
      "3               24          0         2     0                          4  \n",
      "4               30          0         2     1                          2  \n"
     ]
    }
   ],
   "metadata": {}
  },
  {
   "cell_type": "code",
   "execution_count": 2,
   "source": [
    "print(my_data[\"Education\"].value_counts())"
   ],
   "outputs": [
    {
     "output_type": "stream",
     "name": "stdout",
     "text": [
      "0    583\n",
      "1    117\n",
      "Name: Education, dtype: int64\n"
     ]
    }
   ],
   "metadata": {}
  },
  {
   "cell_type": "code",
   "execution_count": 3,
   "source": [
    "my_data[\"Absenteeism Time in Hours\"].median()"
   ],
   "outputs": [
    {
     "output_type": "execute_result",
     "data": {
      "text/plain": [
       "3.0"
      ]
     },
     "metadata": {},
     "execution_count": 3
    }
   ],
   "metadata": {}
  },
  {
   "cell_type": "code",
   "execution_count": 4,
   "source": [
    "list_more_than_3 = []\r\n",
    "for index, values in enumerate(my_data[\"Absenteeism Time in Hours\"]):\r\n",
    "    if values > 3:\r\n",
    "        list_more_than_3.append(1)\r\n",
    "    elif values <= 3:\r\n",
    "        list_more_than_3.append(0)\r\n",
    "\r\n",
    "my_data[\"Excessive_absenteeism\"] = list_more_than_3\r\n",
    "\r\n",
    "print(my_data.head())"
   ],
   "outputs": [
    {
     "output_type": "stream",
     "name": "stdout",
     "text": [
      "   Reason_1  Reason_2  Reason_3  Reason_4  Month Value  Day of the Week  \\\n",
      "0         0         0         0         1            7                1   \n",
      "1         0         0         0         0            7                1   \n",
      "2         0         0         0         1            7                2   \n",
      "3         1         0         0         0            7                3   \n",
      "4         0         0         0         1            7                3   \n",
      "\n",
      "   Transportation Expense  Distance to Work  Age  Daily Work Load Average  \\\n",
      "0                     289                36   33                  239.554   \n",
      "1                     118                13   50                  239.554   \n",
      "2                     179                51   38                  239.554   \n",
      "3                     279                 5   39                  239.554   \n",
      "4                     289                36   33                  239.554   \n",
      "\n",
      "   Body Mass Index  Education  Children  Pets  Absenteeism Time in Hours  \\\n",
      "0               30          0         2     1                          4   \n",
      "1               31          0         1     0                          0   \n",
      "2               31          0         0     0                          2   \n",
      "3               24          0         2     0                          4   \n",
      "4               30          0         2     1                          2   \n",
      "\n",
      "   Excessive_absenteeism  \n",
      "0                      1  \n",
      "1                      0  \n",
      "2                      0  \n",
      "3                      1  \n",
      "4                      0  \n"
     ]
    }
   ],
   "metadata": {}
  },
  {
   "cell_type": "code",
   "execution_count": 5,
   "source": [
    "# checkpoint\r\n",
    "cp_my_data_after_adding_excessive_absenteeism = my_data\r\n"
   ],
   "outputs": [],
   "metadata": {}
  },
  {
   "cell_type": "code",
   "execution_count": 6,
   "source": [
    "# another way to do this with numpy\r\n",
    "\r\n",
    "targets = np.where(my_data[\"Absenteeism Time in Hours\"] > my_data[\"Absenteeism Time in Hours\"].median(), 1, 0)\r\n",
    "\r\n",
    "check_list = [targets == my_data[\"Excessive_absenteeism\"]]\r\n",
    "\r\n",
    "# There should be no difference found. I typically try and build code before getting to suggestions on the course I am working on. \r\n",
    "\r\n",
    "for val in check_list:\r\n",
    "    if val.any() == False:\r\n",
    "        print(\"Difference found\")\r\n",
    "\r\n"
   ],
   "outputs": [],
   "metadata": {}
  },
  {
   "cell_type": "code",
   "execution_count": 7,
   "source": [
    "# testing to see if my distribution is evenly distributed\r\n",
    "\r\n",
    "print(targets.sum() / targets.shape[0])"
   ],
   "outputs": [
    {
     "output_type": "stream",
     "name": "stdout",
     "text": [
      "0.45571428571428574\n"
     ]
    }
   ],
   "metadata": {}
  },
  {
   "cell_type": "code",
   "execution_count": 8,
   "source": [
    "# This means that about 45% are ones"
   ],
   "outputs": [],
   "metadata": {}
  },
  {
   "cell_type": "code",
   "execution_count": 9,
   "source": [
    "data_with_targets = my_data.drop([\"Absenteeism Time in Hours\"], axis=1)"
   ],
   "outputs": [],
   "metadata": {}
  },
  {
   "cell_type": "code",
   "execution_count": 10,
   "source": [
    "data_with_targets is my_data"
   ],
   "outputs": [
    {
     "output_type": "execute_result",
     "data": {
      "text/plain": [
       "False"
      ]
     },
     "metadata": {},
     "execution_count": 10
    }
   ],
   "metadata": {}
  },
  {
   "cell_type": "code",
   "execution_count": 11,
   "source": [
    "data_with_targets.head()"
   ],
   "outputs": [
    {
     "output_type": "execute_result",
     "data": {
      "text/html": [
       "<div>\n",
       "<style scoped>\n",
       "    .dataframe tbody tr th:only-of-type {\n",
       "        vertical-align: middle;\n",
       "    }\n",
       "\n",
       "    .dataframe tbody tr th {\n",
       "        vertical-align: top;\n",
       "    }\n",
       "\n",
       "    .dataframe thead th {\n",
       "        text-align: right;\n",
       "    }\n",
       "</style>\n",
       "<table border=\"1\" class=\"dataframe\">\n",
       "  <thead>\n",
       "    <tr style=\"text-align: right;\">\n",
       "      <th></th>\n",
       "      <th>Reason_1</th>\n",
       "      <th>Reason_2</th>\n",
       "      <th>Reason_3</th>\n",
       "      <th>Reason_4</th>\n",
       "      <th>Month Value</th>\n",
       "      <th>Day of the Week</th>\n",
       "      <th>Transportation Expense</th>\n",
       "      <th>Distance to Work</th>\n",
       "      <th>Age</th>\n",
       "      <th>Daily Work Load Average</th>\n",
       "      <th>Body Mass Index</th>\n",
       "      <th>Education</th>\n",
       "      <th>Children</th>\n",
       "      <th>Pets</th>\n",
       "      <th>Excessive_absenteeism</th>\n",
       "    </tr>\n",
       "  </thead>\n",
       "  <tbody>\n",
       "    <tr>\n",
       "      <th>0</th>\n",
       "      <td>0</td>\n",
       "      <td>0</td>\n",
       "      <td>0</td>\n",
       "      <td>1</td>\n",
       "      <td>7</td>\n",
       "      <td>1</td>\n",
       "      <td>289</td>\n",
       "      <td>36</td>\n",
       "      <td>33</td>\n",
       "      <td>239.554</td>\n",
       "      <td>30</td>\n",
       "      <td>0</td>\n",
       "      <td>2</td>\n",
       "      <td>1</td>\n",
       "      <td>1</td>\n",
       "    </tr>\n",
       "    <tr>\n",
       "      <th>1</th>\n",
       "      <td>0</td>\n",
       "      <td>0</td>\n",
       "      <td>0</td>\n",
       "      <td>0</td>\n",
       "      <td>7</td>\n",
       "      <td>1</td>\n",
       "      <td>118</td>\n",
       "      <td>13</td>\n",
       "      <td>50</td>\n",
       "      <td>239.554</td>\n",
       "      <td>31</td>\n",
       "      <td>0</td>\n",
       "      <td>1</td>\n",
       "      <td>0</td>\n",
       "      <td>0</td>\n",
       "    </tr>\n",
       "    <tr>\n",
       "      <th>2</th>\n",
       "      <td>0</td>\n",
       "      <td>0</td>\n",
       "      <td>0</td>\n",
       "      <td>1</td>\n",
       "      <td>7</td>\n",
       "      <td>2</td>\n",
       "      <td>179</td>\n",
       "      <td>51</td>\n",
       "      <td>38</td>\n",
       "      <td>239.554</td>\n",
       "      <td>31</td>\n",
       "      <td>0</td>\n",
       "      <td>0</td>\n",
       "      <td>0</td>\n",
       "      <td>0</td>\n",
       "    </tr>\n",
       "    <tr>\n",
       "      <th>3</th>\n",
       "      <td>1</td>\n",
       "      <td>0</td>\n",
       "      <td>0</td>\n",
       "      <td>0</td>\n",
       "      <td>7</td>\n",
       "      <td>3</td>\n",
       "      <td>279</td>\n",
       "      <td>5</td>\n",
       "      <td>39</td>\n",
       "      <td>239.554</td>\n",
       "      <td>24</td>\n",
       "      <td>0</td>\n",
       "      <td>2</td>\n",
       "      <td>0</td>\n",
       "      <td>1</td>\n",
       "    </tr>\n",
       "    <tr>\n",
       "      <th>4</th>\n",
       "      <td>0</td>\n",
       "      <td>0</td>\n",
       "      <td>0</td>\n",
       "      <td>1</td>\n",
       "      <td>7</td>\n",
       "      <td>3</td>\n",
       "      <td>289</td>\n",
       "      <td>36</td>\n",
       "      <td>33</td>\n",
       "      <td>239.554</td>\n",
       "      <td>30</td>\n",
       "      <td>0</td>\n",
       "      <td>2</td>\n",
       "      <td>1</td>\n",
       "      <td>0</td>\n",
       "    </tr>\n",
       "  </tbody>\n",
       "</table>\n",
       "</div>"
      ],
      "text/plain": [
       "   Reason_1  Reason_2  Reason_3  Reason_4  Month Value  Day of the Week  \\\n",
       "0         0         0         0         1            7                1   \n",
       "1         0         0         0         0            7                1   \n",
       "2         0         0         0         1            7                2   \n",
       "3         1         0         0         0            7                3   \n",
       "4         0         0         0         1            7                3   \n",
       "\n",
       "   Transportation Expense  Distance to Work  Age  Daily Work Load Average  \\\n",
       "0                     289                36   33                  239.554   \n",
       "1                     118                13   50                  239.554   \n",
       "2                     179                51   38                  239.554   \n",
       "3                     279                 5   39                  239.554   \n",
       "4                     289                36   33                  239.554   \n",
       "\n",
       "   Body Mass Index  Education  Children  Pets  Excessive_absenteeism  \n",
       "0               30          0         2     1                      1  \n",
       "1               31          0         1     0                      0  \n",
       "2               31          0         0     0                      0  \n",
       "3               24          0         2     0                      1  \n",
       "4               30          0         2     1                      0  "
      ]
     },
     "metadata": {},
     "execution_count": 11
    }
   ],
   "metadata": {}
  },
  {
   "cell_type": "code",
   "execution_count": 12,
   "source": [
    "x_features = data_with_targets.iloc[:, :-1]\r\n",
    "print(x_features.head())"
   ],
   "outputs": [
    {
     "output_type": "stream",
     "name": "stdout",
     "text": [
      "   Reason_1  Reason_2  Reason_3  Reason_4  Month Value  Day of the Week  \\\n",
      "0         0         0         0         1            7                1   \n",
      "1         0         0         0         0            7                1   \n",
      "2         0         0         0         1            7                2   \n",
      "3         1         0         0         0            7                3   \n",
      "4         0         0         0         1            7                3   \n",
      "\n",
      "   Transportation Expense  Distance to Work  Age  Daily Work Load Average  \\\n",
      "0                     289                36   33                  239.554   \n",
      "1                     118                13   50                  239.554   \n",
      "2                     179                51   38                  239.554   \n",
      "3                     279                 5   39                  239.554   \n",
      "4                     289                36   33                  239.554   \n",
      "\n",
      "   Body Mass Index  Education  Children  Pets  \n",
      "0               30          0         2     1  \n",
      "1               31          0         1     0  \n",
      "2               31          0         0     0  \n",
      "3               24          0         2     0  \n",
      "4               30          0         2     1  \n"
     ]
    }
   ],
   "metadata": {}
  },
  {
   "cell_type": "code",
   "execution_count": 13,
   "source": [
    "y_targets = data_with_targets.iloc[:,-1]\r\n",
    "print(y_targets.head())"
   ],
   "outputs": [
    {
     "output_type": "stream",
     "name": "stdout",
     "text": [
      "0    1\n",
      "1    0\n",
      "2    0\n",
      "3    1\n",
      "4    0\n",
      "Name: Excessive_absenteeism, dtype: int64\n"
     ]
    }
   ],
   "metadata": {}
  },
  {
   "cell_type": "code",
   "execution_count": 14,
   "source": [
    "# We need to standardize our y values. \r\n",
    "\r\n",
    "from sklearn.preprocessing import StandardScaler\r\n",
    "\r\n",
    "absenteeism_scaler = StandardScaler()\r\n",
    "absenteeism_scaler.fit(x_features)\r\n",
    "StandardScaler(copy=True, with_mean=True, with_std=True)\r\n",
    "scaled_inputs = absenteeism_scaler.transform(x_features)\r\n",
    "\r\n",
    "print(scaled_inputs)"
   ],
   "outputs": [
    {
     "output_type": "stream",
     "name": "stdout",
     "text": [
      "[[-0.57735027 -0.09298136 -0.31448545 ... -0.44798003  0.88046927\n",
      "   0.26848661]\n",
      " [-0.57735027 -0.09298136 -0.31448545 ... -0.44798003 -0.01928035\n",
      "  -0.58968976]\n",
      " [-0.57735027 -0.09298136 -0.31448545 ... -0.44798003 -0.91902997\n",
      "  -0.58968976]\n",
      " ...\n",
      " [ 1.73205081 -0.09298136 -0.31448545 ...  2.23224237 -0.91902997\n",
      "  -0.58968976]\n",
      " [-0.57735027 -0.09298136 -0.31448545 ...  2.23224237 -0.91902997\n",
      "  -0.58968976]\n",
      " [-0.57735027 -0.09298136 -0.31448545 ... -0.44798003 -0.01928035\n",
      "   0.26848661]]\n"
     ]
    }
   ],
   "metadata": {}
  },
  {
   "cell_type": "code",
   "execution_count": 15,
   "source": [
    "scaled_inputs.shape"
   ],
   "outputs": [
    {
     "output_type": "execute_result",
     "data": {
      "text/plain": [
       "(700, 14)"
      ]
     },
     "metadata": {},
     "execution_count": 15
    }
   ],
   "metadata": {}
  },
  {
   "cell_type": "code",
   "execution_count": 16,
   "source": [
    "from sklearn.model_selection import train_test_split\r\n",
    "\r\n",
    "x_train, x_test, y_train, y_test = train_test_split(scaled_inputs,targets, test_size = .8, shuffle=True)"
   ],
   "outputs": [],
   "metadata": {}
  },
  {
   "cell_type": "code",
   "execution_count": 17,
   "source": [
    "from sklearn.linear_model import LogisticRegression\r\n",
    "from sklearn import metrics\r\n",
    "\r\n"
   ],
   "outputs": [],
   "metadata": {}
  },
  {
   "cell_type": "code",
   "execution_count": 18,
   "source": [
    "reg = LogisticRegression(n_jobs=-1, verbose=1,)\r\n",
    "reg.fit(x_train,y_train)\r\n"
   ],
   "outputs": [
    {
     "output_type": "stream",
     "name": "stderr",
     "text": [
      "[Parallel(n_jobs=-1)]: Using backend LokyBackend with 24 concurrent workers.\n",
      "[Parallel(n_jobs=-1)]: Done   1 out of   1 | elapsed:    0.8s finished\n"
     ]
    },
    {
     "output_type": "execute_result",
     "data": {
      "text/plain": [
       "LogisticRegression(n_jobs=-1, verbose=1)"
      ]
     },
     "metadata": {},
     "execution_count": 18
    }
   ],
   "metadata": {}
  },
  {
   "cell_type": "code",
   "execution_count": 19,
   "source": [
    "reg.score(x_train,y_train)"
   ],
   "outputs": [
    {
     "output_type": "execute_result",
     "data": {
      "text/plain": [
       "0.8"
      ]
     },
     "metadata": {},
     "execution_count": 19
    }
   ],
   "metadata": {}
  },
  {
   "cell_type": "code",
   "execution_count": 20,
   "source": [
    "# Building it from scratch\r\n",
    "model_outputs = reg.predict(x_train)"
   ],
   "outputs": [],
   "metadata": {}
  },
  {
   "cell_type": "code",
   "execution_count": 21,
   "source": [
    "model_outputs == y_train"
   ],
   "outputs": [
    {
     "output_type": "execute_result",
     "data": {
      "text/plain": [
       "array([False,  True,  True,  True, False,  True, False, False, False,\n",
       "        True,  True,  True,  True,  True, False,  True,  True,  True,\n",
       "       False,  True,  True,  True,  True,  True,  True,  True,  True,\n",
       "        True,  True,  True,  True,  True, False,  True,  True, False,\n",
       "        True,  True,  True,  True, False,  True, False,  True,  True,\n",
       "        True,  True,  True,  True,  True,  True,  True, False,  True,\n",
       "        True, False,  True,  True,  True,  True,  True,  True,  True,\n",
       "        True,  True,  True,  True,  True,  True,  True, False,  True,\n",
       "        True,  True,  True,  True,  True, False,  True,  True,  True,\n",
       "        True,  True,  True,  True,  True,  True,  True, False,  True,\n",
       "       False,  True, False,  True,  True,  True,  True,  True,  True,\n",
       "        True, False,  True,  True, False, False,  True,  True,  True,\n",
       "       False,  True, False, False,  True,  True,  True,  True,  True,\n",
       "        True,  True,  True,  True,  True,  True,  True, False, False,\n",
       "        True,  True,  True,  True,  True, False,  True,  True,  True,\n",
       "        True,  True,  True, False,  True])"
      ]
     },
     "metadata": {},
     "execution_count": 21
    }
   ],
   "metadata": {}
  },
  {
   "cell_type": "code",
   "execution_count": 22,
   "source": [
    "accuracy_array = model_outputs==y_train"
   ],
   "outputs": [],
   "metadata": {}
  },
  {
   "cell_type": "code",
   "execution_count": 23,
   "source": [
    "print(f\"Correct Results: {np.sum((model_outputs==y_train))}\")\r\n",
    "print(f\"Total entries: {model_outputs.shape[0]}\")\r\n",
    "print(f\"Accuracy: {np.sum((model_outputs==y_train))/model_outputs.shape[0]}\")\r\n",
    "\r\n",
    "\r\n"
   ],
   "outputs": [
    {
     "output_type": "stream",
     "name": "stdout",
     "text": [
      "Correct Results: 112\n",
      "Total entries: 140\n",
      "Accuracy: 0.8\n"
     ]
    }
   ],
   "metadata": {}
  }
 ],
 "metadata": {
  "orig_nbformat": 4,
  "language_info": {
   "name": "python",
   "version": "3.8.10",
   "mimetype": "text/x-python",
   "codemirror_mode": {
    "name": "ipython",
    "version": 3
   },
   "pygments_lexer": "ipython3",
   "nbconvert_exporter": "python",
   "file_extension": ".py"
  },
  "kernelspec": {
   "name": "python3",
   "display_name": "Python 3.8.10 64-bit (windows store)"
  },
  "interpreter": {
   "hash": "8a4473abb86bcdafceabd37651259593bd94b1da3a5661bdd90adfdc9ce6ad58"
  }
 },
 "nbformat": 4,
 "nbformat_minor": 2
}