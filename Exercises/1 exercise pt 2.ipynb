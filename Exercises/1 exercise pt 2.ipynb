{
 "cells": [
  {
   "cell_type": "code",
   "execution_count": 52,
   "source": [
    "import pandas as pd\r\n",
    "import numpy as np\r\n",
    "\r\n",
    "my_data = pd.read_csv(r\"C:\\Users\\jason\\Documents\\GitHub\\Integrating_Tableau_Python_SQL\\Data\\df_preprocessed.csv\")\r\n",
    "print(my_data.head())"
   ],
   "outputs": [
    {
     "output_type": "stream",
     "name": "stdout",
     "text": [
      "   Reason_1  Reason_2  Reason_3  Reason_4  Month Value  Day of the Week  \\\n",
      "0         0         0         0         1            7                1   \n",
      "1         0         0         0         0            7                1   \n",
      "2         0         0         0         1            7                2   \n",
      "3         1         0         0         0            7                3   \n",
      "4         0         0         0         1            7                3   \n",
      "\n",
      "   Transportation Expense  Distance to Work  Age  Daily Work Load Average  \\\n",
      "0                     289                36   33                  239.554   \n",
      "1                     118                13   50                  239.554   \n",
      "2                     179                51   38                  239.554   \n",
      "3                     279                 5   39                  239.554   \n",
      "4                     289                36   33                  239.554   \n",
      "\n",
      "   Body Mass Index  Education  Children  Pets  Absenteeism Time in Hours  \n",
      "0               30          0         2     1                          4  \n",
      "1               31          0         1     0                          0  \n",
      "2               31          0         0     0                          2  \n",
      "3               24          0         2     0                          4  \n",
      "4               30          0         2     1                          2  \n"
     ]
    }
   ],
   "metadata": {}
  },
  {
   "cell_type": "code",
   "execution_count": 53,
   "source": [
    "print(my_data[\"Education\"].value_counts())"
   ],
   "outputs": [
    {
     "output_type": "stream",
     "name": "stdout",
     "text": [
      "0    583\n",
      "1    117\n",
      "Name: Education, dtype: int64\n"
     ]
    }
   ],
   "metadata": {}
  },
  {
   "cell_type": "code",
   "execution_count": 54,
   "source": [
    "my_data[\"Absenteeism Time in Hours\"].median()"
   ],
   "outputs": [
    {
     "output_type": "execute_result",
     "data": {
      "text/plain": [
       "3.0"
      ]
     },
     "metadata": {},
     "execution_count": 54
    }
   ],
   "metadata": {}
  },
  {
   "cell_type": "code",
   "execution_count": 55,
   "source": [
    "list_more_than_3 = []\r\n",
    "for index, values in enumerate(my_data[\"Absenteeism Time in Hours\"]):\r\n",
    "    if values > 3:\r\n",
    "        list_more_than_3.append(1)\r\n",
    "    elif values <= 3:\r\n",
    "        list_more_than_3.append(0)\r\n",
    "\r\n",
    "my_data[\"Excessive_absenteeism\"] = list_more_than_3\r\n",
    "\r\n",
    "print(my_data.head())"
   ],
   "outputs": [
    {
     "output_type": "stream",
     "name": "stdout",
     "text": [
      "   Reason_1  Reason_2  Reason_3  Reason_4  Month Value  Day of the Week  \\\n",
      "0         0         0         0         1            7                1   \n",
      "1         0         0         0         0            7                1   \n",
      "2         0         0         0         1            7                2   \n",
      "3         1         0         0         0            7                3   \n",
      "4         0         0         0         1            7                3   \n",
      "\n",
      "   Transportation Expense  Distance to Work  Age  Daily Work Load Average  \\\n",
      "0                     289                36   33                  239.554   \n",
      "1                     118                13   50                  239.554   \n",
      "2                     179                51   38                  239.554   \n",
      "3                     279                 5   39                  239.554   \n",
      "4                     289                36   33                  239.554   \n",
      "\n",
      "   Body Mass Index  Education  Children  Pets  Absenteeism Time in Hours  \\\n",
      "0               30          0         2     1                          4   \n",
      "1               31          0         1     0                          0   \n",
      "2               31          0         0     0                          2   \n",
      "3               24          0         2     0                          4   \n",
      "4               30          0         2     1                          2   \n",
      "\n",
      "   Excessive_absenteeism  \n",
      "0                      1  \n",
      "1                      0  \n",
      "2                      0  \n",
      "3                      1  \n",
      "4                      0  \n"
     ]
    }
   ],
   "metadata": {}
  },
  {
   "cell_type": "code",
   "execution_count": 56,
   "source": [
    "# checkpoint\r\n",
    "cp_my_data_after_adding_excessive_absenteeism = my_data\r\n"
   ],
   "outputs": [],
   "metadata": {}
  },
  {
   "cell_type": "code",
   "execution_count": 57,
   "source": [
    "# another way to do this with numpy\r\n",
    "\r\n",
    "targets = np.where(my_data[\"Absenteeism Time in Hours\"] > my_data[\"Absenteeism Time in Hours\"].median(), 1, 0)\r\n",
    "\r\n",
    "check_list = [targets == my_data[\"Excessive_absenteeism\"]]\r\n",
    "\r\n",
    "for val in check_list:\r\n",
    "    if val.any() == False:\r\n",
    "        print(\"Difference found\")\r\n",
    "\r\n"
   ],
   "outputs": [],
   "metadata": {}
  },
  {
   "cell_type": "code",
   "execution_count": null,
   "source": [],
   "outputs": [],
   "metadata": {}
  }
 ],
 "metadata": {
  "orig_nbformat": 4,
  "language_info": {
   "name": "python",
   "version": "3.8.10",
   "mimetype": "text/x-python",
   "codemirror_mode": {
    "name": "ipython",
    "version": 3
   },
   "pygments_lexer": "ipython3",
   "nbconvert_exporter": "python",
   "file_extension": ".py"
  },
  "kernelspec": {
   "name": "python3",
   "display_name": "Python 3.8.10 64-bit (windows store)"
  },
  "interpreter": {
   "hash": "8a4473abb86bcdafceabd37651259593bd94b1da3a5661bdd90adfdc9ce6ad58"
  }
 },
 "nbformat": 4,
 "nbformat_minor": 2
}