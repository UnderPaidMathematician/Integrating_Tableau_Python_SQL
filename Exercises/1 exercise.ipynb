{
 "cells": [
  {
   "cell_type": "code",
   "execution_count": 71,
   "source": [
    "import pandas as pd\r\n"
   ],
   "outputs": [],
   "metadata": {
    "collapsed": false,
    "pycharm": {
     "name": "#%%\n"
    }
   }
  },
  {
   "cell_type": "code",
   "execution_count": 72,
   "source": [
    "# Load Absenteeism data\r\n",
    "\r\n",
    "my_data = pd.read_csv(r\"C:\\Users\\jason\\Documents\\GitHub\\Integrating_Tableau_Python_SQL\\Data\\Absenteeism_data.csv\")\r\n",
    "my_data_solution = pd.read_csv(r\"C:\\Users\\jason\\Documents\\GitHub\\Integrating_Tableau_Python_SQL\\Data\\df_preprocessed.csv\")\r\n",
    "my_data_preprocessed = my_data\r\n",
    "\r\n",
    "my_data_preprocessed.drop(axis=1, labels=\"ID\", inplace=True)\r\n",
    "reason_columns = pd.get_dummies(data= my_data_preprocessed['Reason for Absence'], drop_first=True)\r\n",
    "my_data_preprocessed = pd.get_dummies(data= my_data_preprocessed, columns=[\"Reason for Absence\"], drop_first=True)\r\n",
    "print(my_data_preprocessed.columns)\r\n",
    "print(my_data_preprocessed)"
   ],
   "outputs": [
    {
     "output_type": "stream",
     "name": "stdout",
     "text": [
      "Index(['Date', 'Transportation Expense', 'Distance to Work', 'Age',\n",
      "       'Daily Work Load Average', 'Body Mass Index', 'Education', 'Children',\n",
      "       'Pets', 'Absenteeism Time in Hours', 'Reason for Absence_1',\n",
      "       'Reason for Absence_2', 'Reason for Absence_3', 'Reason for Absence_4',\n",
      "       'Reason for Absence_5', 'Reason for Absence_6', 'Reason for Absence_7',\n",
      "       'Reason for Absence_8', 'Reason for Absence_9', 'Reason for Absence_10',\n",
      "       'Reason for Absence_11', 'Reason for Absence_12',\n",
      "       'Reason for Absence_13', 'Reason for Absence_14',\n",
      "       'Reason for Absence_15', 'Reason for Absence_16',\n",
      "       'Reason for Absence_17', 'Reason for Absence_18',\n",
      "       'Reason for Absence_19', 'Reason for Absence_21',\n",
      "       'Reason for Absence_22', 'Reason for Absence_23',\n",
      "       'Reason for Absence_24', 'Reason for Absence_25',\n",
      "       'Reason for Absence_26', 'Reason for Absence_27',\n",
      "       'Reason for Absence_28'],\n",
      "      dtype='object')\n",
      "           Date  Transportation Expense  Distance to Work  Age  \\\n",
      "0    07/07/2015                     289                36   33   \n",
      "1    14/07/2015                     118                13   50   \n",
      "2    15/07/2015                     179                51   38   \n",
      "3    16/07/2015                     279                 5   39   \n",
      "4    23/07/2015                     289                36   33   \n",
      "..          ...                     ...               ...  ...   \n",
      "695  23/05/2018                     179                22   40   \n",
      "696  23/05/2018                     225                26   28   \n",
      "697  24/05/2018                     330                16   28   \n",
      "698  24/05/2018                     235                16   32   \n",
      "699  31/05/2018                     291                31   40   \n",
      "\n",
      "     Daily Work Load Average  Body Mass Index  Education  Children  Pets  \\\n",
      "0                    239.554               30          1         2     1   \n",
      "1                    239.554               31          1         1     0   \n",
      "2                    239.554               31          1         0     0   \n",
      "3                    239.554               24          1         2     0   \n",
      "4                    239.554               30          1         2     1   \n",
      "..                       ...              ...        ...       ...   ...   \n",
      "695                  237.656               22          2         2     0   \n",
      "696                  237.656               24          1         1     2   \n",
      "697                  237.656               25          2         0     0   \n",
      "698                  237.656               25          3         0     0   \n",
      "699                  237.656               25          1         1     1   \n",
      "\n",
      "     Absenteeism Time in Hours  ...  Reason for Absence_18  \\\n",
      "0                            4  ...                      0   \n",
      "1                            0  ...                      0   \n",
      "2                            2  ...                      0   \n",
      "3                            4  ...                      0   \n",
      "4                            2  ...                      0   \n",
      "..                         ...  ...                    ...   \n",
      "695                          8  ...                      0   \n",
      "696                          3  ...                      0   \n",
      "697                          8  ...                      0   \n",
      "698                          2  ...                      0   \n",
      "699                          2  ...                      0   \n",
      "\n",
      "     Reason for Absence_19  Reason for Absence_21  Reason for Absence_22  \\\n",
      "0                        0                      0                      0   \n",
      "1                        0                      0                      0   \n",
      "2                        0                      0                      0   \n",
      "3                        0                      0                      0   \n",
      "4                        0                      0                      0   \n",
      "..                     ...                    ...                    ...   \n",
      "695                      0                      0                      0   \n",
      "696                      0                      0                      0   \n",
      "697                      0                      0                      0   \n",
      "698                      0                      0                      0   \n",
      "699                      0                      0                      0   \n",
      "\n",
      "     Reason for Absence_23  Reason for Absence_24  Reason for Absence_25  \\\n",
      "0                        0                      0                      0   \n",
      "1                        0                      0                      0   \n",
      "2                        1                      0                      0   \n",
      "3                        0                      0                      0   \n",
      "4                        1                      0                      0   \n",
      "..                     ...                    ...                    ...   \n",
      "695                      0                      0                      0   \n",
      "696                      0                      0                      0   \n",
      "697                      0                      0                      0   \n",
      "698                      1                      0                      0   \n",
      "699                      0                      0                      0   \n",
      "\n",
      "     Reason for Absence_26  Reason for Absence_27  Reason for Absence_28  \n",
      "0                        1                      0                      0  \n",
      "1                        0                      0                      0  \n",
      "2                        0                      0                      0  \n",
      "3                        0                      0                      0  \n",
      "4                        0                      0                      0  \n",
      "..                     ...                    ...                    ...  \n",
      "695                      0                      0                      0  \n",
      "696                      0                      0                      0  \n",
      "697                      0                      0                      0  \n",
      "698                      0                      0                      0  \n",
      "699                      0                      0                      1  \n",
      "\n",
      "[700 rows x 37 columns]\n"
     ]
    }
   ],
   "metadata": {
    "collapsed": true,
    "pycharm": {
     "name": "#%%\n"
    }
   }
  },
  {
   "cell_type": "code",
   "execution_count": 73,
   "source": [
    "my_data_preprocessed.info()"
   ],
   "outputs": [
    {
     "output_type": "stream",
     "name": "stdout",
     "text": [
      "<class 'pandas.core.frame.DataFrame'>\n",
      "RangeIndex: 700 entries, 0 to 699\n",
      "Data columns (total 37 columns):\n",
      " #   Column                     Non-Null Count  Dtype  \n",
      "---  ------                     --------------  -----  \n",
      " 0   Date                       700 non-null    object \n",
      " 1   Transportation Expense     700 non-null    int64  \n",
      " 2   Distance to Work           700 non-null    int64  \n",
      " 3   Age                        700 non-null    int64  \n",
      " 4   Daily Work Load Average    700 non-null    float64\n",
      " 5   Body Mass Index            700 non-null    int64  \n",
      " 6   Education                  700 non-null    int64  \n",
      " 7   Children                   700 non-null    int64  \n",
      " 8   Pets                       700 non-null    int64  \n",
      " 9   Absenteeism Time in Hours  700 non-null    int64  \n",
      " 10  Reason for Absence_1       700 non-null    uint8  \n",
      " 11  Reason for Absence_2       700 non-null    uint8  \n",
      " 12  Reason for Absence_3       700 non-null    uint8  \n",
      " 13  Reason for Absence_4       700 non-null    uint8  \n",
      " 14  Reason for Absence_5       700 non-null    uint8  \n",
      " 15  Reason for Absence_6       700 non-null    uint8  \n",
      " 16  Reason for Absence_7       700 non-null    uint8  \n",
      " 17  Reason for Absence_8       700 non-null    uint8  \n",
      " 18  Reason for Absence_9       700 non-null    uint8  \n",
      " 19  Reason for Absence_10      700 non-null    uint8  \n",
      " 20  Reason for Absence_11      700 non-null    uint8  \n",
      " 21  Reason for Absence_12      700 non-null    uint8  \n",
      " 22  Reason for Absence_13      700 non-null    uint8  \n",
      " 23  Reason for Absence_14      700 non-null    uint8  \n",
      " 24  Reason for Absence_15      700 non-null    uint8  \n",
      " 25  Reason for Absence_16      700 non-null    uint8  \n",
      " 26  Reason for Absence_17      700 non-null    uint8  \n",
      " 27  Reason for Absence_18      700 non-null    uint8  \n",
      " 28  Reason for Absence_19      700 non-null    uint8  \n",
      " 29  Reason for Absence_21      700 non-null    uint8  \n",
      " 30  Reason for Absence_22      700 non-null    uint8  \n",
      " 31  Reason for Absence_23      700 non-null    uint8  \n",
      " 32  Reason for Absence_24      700 non-null    uint8  \n",
      " 33  Reason for Absence_25      700 non-null    uint8  \n",
      " 34  Reason for Absence_26      700 non-null    uint8  \n",
      " 35  Reason for Absence_27      700 non-null    uint8  \n",
      " 36  Reason for Absence_28      700 non-null    uint8  \n",
      "dtypes: float64(1), int64(8), object(1), uint8(27)\n",
      "memory usage: 73.3+ KB\n"
     ]
    }
   ],
   "metadata": {
    "collapsed": false,
    "pycharm": {
     "name": "#%%\n"
    }
   }
  },
  {
   "cell_type": "code",
   "execution_count": 74,
   "source": [
    "print(my_data_preprocessed.head())"
   ],
   "outputs": [
    {
     "output_type": "stream",
     "name": "stdout",
     "text": [
      "         Date  Transportation Expense  Distance to Work  Age  \\\n",
      "0  07/07/2015                     289                36   33   \n",
      "1  14/07/2015                     118                13   50   \n",
      "2  15/07/2015                     179                51   38   \n",
      "3  16/07/2015                     279                 5   39   \n",
      "4  23/07/2015                     289                36   33   \n",
      "\n",
      "   Daily Work Load Average  Body Mass Index  Education  Children  Pets  \\\n",
      "0                  239.554               30          1         2     1   \n",
      "1                  239.554               31          1         1     0   \n",
      "2                  239.554               31          1         0     0   \n",
      "3                  239.554               24          1         2     0   \n",
      "4                  239.554               30          1         2     1   \n",
      "\n",
      "   Absenteeism Time in Hours  ...  Reason for Absence_18  \\\n",
      "0                          4  ...                      0   \n",
      "1                          0  ...                      0   \n",
      "2                          2  ...                      0   \n",
      "3                          4  ...                      0   \n",
      "4                          2  ...                      0   \n",
      "\n",
      "   Reason for Absence_19  Reason for Absence_21  Reason for Absence_22  \\\n",
      "0                      0                      0                      0   \n",
      "1                      0                      0                      0   \n",
      "2                      0                      0                      0   \n",
      "3                      0                      0                      0   \n",
      "4                      0                      0                      0   \n",
      "\n",
      "   Reason for Absence_23  Reason for Absence_24  Reason for Absence_25  \\\n",
      "0                      0                      0                      0   \n",
      "1                      0                      0                      0   \n",
      "2                      1                      0                      0   \n",
      "3                      0                      0                      0   \n",
      "4                      1                      0                      0   \n",
      "\n",
      "   Reason for Absence_26  Reason for Absence_27  Reason for Absence_28  \n",
      "0                      1                      0                      0  \n",
      "1                      0                      0                      0  \n",
      "2                      0                      0                      0  \n",
      "3                      0                      0                      0  \n",
      "4                      0                      0                      0  \n",
      "\n",
      "[5 rows x 37 columns]\n"
     ]
    }
   ],
   "metadata": {
    "collapsed": false,
    "pycharm": {
     "name": "#%%\n"
    }
   }
  },
  {
   "cell_type": "code",
   "execution_count": 75,
   "source": [
    "my_data_preprocessed[\"check\"] = my_data_preprocessed.iloc[:,10:39].sum(axis=1)\r\n"
   ],
   "outputs": [],
   "metadata": {
    "collapsed": false,
    "pycharm": {
     "name": "#%%\n"
    }
   }
  },
  {
   "cell_type": "code",
   "execution_count": 76,
   "source": [
    "print(my_data_preprocessed[\"check\"].head())"
   ],
   "outputs": [
    {
     "output_type": "stream",
     "name": "stdout",
     "text": [
      "0    1\n",
      "1    0\n",
      "2    1\n",
      "3    1\n",
      "4    1\n",
      "Name: check, dtype: int64\n"
     ]
    }
   ],
   "metadata": {
    "collapsed": false
   }
  },
  {
   "cell_type": "code",
   "execution_count": 77,
   "source": [
    "reason_columns[\"check\"] = reason_columns.sum(axis=1)\r\n",
    "print(reason_columns[\"check\"].unique())"
   ],
   "outputs": [
    {
     "output_type": "stream",
     "name": "stdout",
     "text": [
      "[1 0]\n"
     ]
    }
   ],
   "metadata": {}
  },
  {
   "cell_type": "code",
   "execution_count": 78,
   "source": [
    "print(my_data_preprocessed[\"check\"].unique())\r\n",
    "\r\n"
   ],
   "outputs": [
    {
     "output_type": "stream",
     "name": "stdout",
     "text": [
      "[1 0]\n"
     ]
    }
   ],
   "metadata": {
    "collapsed": false,
    "pycharm": {
     "name": "#%%\n"
    }
   }
  },
  {
   "cell_type": "code",
   "execution_count": 79,
   "source": [
    "my_data_preprocessed.drop(labels=\"check\",axis=1, inplace=True)"
   ],
   "outputs": [],
   "metadata": {
    "collapsed": false,
    "pycharm": {
     "name": "#%%\n"
    }
   }
  },
  {
   "cell_type": "code",
   "execution_count": 80,
   "source": [
    "age_dummies = pd.get_dummies(data=my_data_preprocessed, columns=[\"Age\"],drop_first=True)\r\n",
    "\r\n",
    "my_data_preprocessed = pd.get_dummies(data=my_data_preprocessed, columns=[\"Age\"],drop_first=True)\r\n"
   ],
   "outputs": [],
   "metadata": {}
  },
  {
   "cell_type": "code",
   "execution_count": 81,
   "source": [
    "my_data_preprocessed.info()"
   ],
   "outputs": [
    {
     "output_type": "stream",
     "name": "stdout",
     "text": [
      "<class 'pandas.core.frame.DataFrame'>\n",
      "RangeIndex: 700 entries, 0 to 699\n",
      "Data columns (total 56 columns):\n",
      " #   Column                     Non-Null Count  Dtype  \n",
      "---  ------                     --------------  -----  \n",
      " 0   Date                       700 non-null    object \n",
      " 1   Transportation Expense     700 non-null    int64  \n",
      " 2   Distance to Work           700 non-null    int64  \n",
      " 3   Daily Work Load Average    700 non-null    float64\n",
      " 4   Body Mass Index            700 non-null    int64  \n",
      " 5   Education                  700 non-null    int64  \n",
      " 6   Children                   700 non-null    int64  \n",
      " 7   Pets                       700 non-null    int64  \n",
      " 8   Absenteeism Time in Hours  700 non-null    int64  \n",
      " 9   Reason for Absence_1       700 non-null    uint8  \n",
      " 10  Reason for Absence_2       700 non-null    uint8  \n",
      " 11  Reason for Absence_3       700 non-null    uint8  \n",
      " 12  Reason for Absence_4       700 non-null    uint8  \n",
      " 13  Reason for Absence_5       700 non-null    uint8  \n",
      " 14  Reason for Absence_6       700 non-null    uint8  \n",
      " 15  Reason for Absence_7       700 non-null    uint8  \n",
      " 16  Reason for Absence_8       700 non-null    uint8  \n",
      " 17  Reason for Absence_9       700 non-null    uint8  \n",
      " 18  Reason for Absence_10      700 non-null    uint8  \n",
      " 19  Reason for Absence_11      700 non-null    uint8  \n",
      " 20  Reason for Absence_12      700 non-null    uint8  \n",
      " 21  Reason for Absence_13      700 non-null    uint8  \n",
      " 22  Reason for Absence_14      700 non-null    uint8  \n",
      " 23  Reason for Absence_15      700 non-null    uint8  \n",
      " 24  Reason for Absence_16      700 non-null    uint8  \n",
      " 25  Reason for Absence_17      700 non-null    uint8  \n",
      " 26  Reason for Absence_18      700 non-null    uint8  \n",
      " 27  Reason for Absence_19      700 non-null    uint8  \n",
      " 28  Reason for Absence_21      700 non-null    uint8  \n",
      " 29  Reason for Absence_22      700 non-null    uint8  \n",
      " 30  Reason for Absence_23      700 non-null    uint8  \n",
      " 31  Reason for Absence_24      700 non-null    uint8  \n",
      " 32  Reason for Absence_25      700 non-null    uint8  \n",
      " 33  Reason for Absence_26      700 non-null    uint8  \n",
      " 34  Reason for Absence_27      700 non-null    uint8  \n",
      " 35  Reason for Absence_28      700 non-null    uint8  \n",
      " 36  Age_28                     700 non-null    uint8  \n",
      " 37  Age_29                     700 non-null    uint8  \n",
      " 38  Age_30                     700 non-null    uint8  \n",
      " 39  Age_31                     700 non-null    uint8  \n",
      " 40  Age_32                     700 non-null    uint8  \n",
      " 41  Age_33                     700 non-null    uint8  \n",
      " 42  Age_34                     700 non-null    uint8  \n",
      " 43  Age_36                     700 non-null    uint8  \n",
      " 44  Age_37                     700 non-null    uint8  \n",
      " 45  Age_38                     700 non-null    uint8  \n",
      " 46  Age_39                     700 non-null    uint8  \n",
      " 47  Age_40                     700 non-null    uint8  \n",
      " 48  Age_41                     700 non-null    uint8  \n",
      " 49  Age_43                     700 non-null    uint8  \n",
      " 50  Age_46                     700 non-null    uint8  \n",
      " 51  Age_47                     700 non-null    uint8  \n",
      " 52  Age_48                     700 non-null    uint8  \n",
      " 53  Age_49                     700 non-null    uint8  \n",
      " 54  Age_50                     700 non-null    uint8  \n",
      " 55  Age_58                     700 non-null    uint8  \n",
      "dtypes: float64(1), int64(7), object(1), uint8(47)\n",
      "memory usage: 81.5+ KB\n"
     ]
    }
   ],
   "metadata": {}
  },
  {
   "cell_type": "code",
   "execution_count": 82,
   "source": [
    "reason_type_1 = my_data_preprocessed.iloc[:, 9:22].max(axis=1)\r\n",
    "reason_type_2 = my_data_preprocessed.iloc[:, 23:25].max(axis=1)\r\n",
    "reason_type_3 = my_data_preprocessed.iloc[:, 26:29].max(axis=1)\r\n",
    "reason_type_4 = my_data_preprocessed.iloc[:, 30:35].max(axis=1)"
   ],
   "outputs": [],
   "metadata": {}
  },
  {
   "cell_type": "code",
   "execution_count": 83,
   "source": [
    "my_data_preprocessed = pd.concat([my_data_preprocessed,reason_type_1,reason_type_2,reason_type_3,reason_type_4], axis=1)"
   ],
   "outputs": [],
   "metadata": {}
  },
  {
   "cell_type": "code",
   "execution_count": 84,
   "source": [
    "my_data_preprocessed.columns"
   ],
   "outputs": [
    {
     "output_type": "execute_result",
     "data": {
      "text/plain": [
       "Index([                     'Date',    'Transportation Expense',\n",
       "                'Distance to Work',   'Daily Work Load Average',\n",
       "                 'Body Mass Index',                 'Education',\n",
       "                        'Children',                      'Pets',\n",
       "       'Absenteeism Time in Hours',      'Reason for Absence_1',\n",
       "            'Reason for Absence_2',      'Reason for Absence_3',\n",
       "            'Reason for Absence_4',      'Reason for Absence_5',\n",
       "            'Reason for Absence_6',      'Reason for Absence_7',\n",
       "            'Reason for Absence_8',      'Reason for Absence_9',\n",
       "           'Reason for Absence_10',     'Reason for Absence_11',\n",
       "           'Reason for Absence_12',     'Reason for Absence_13',\n",
       "           'Reason for Absence_14',     'Reason for Absence_15',\n",
       "           'Reason for Absence_16',     'Reason for Absence_17',\n",
       "           'Reason for Absence_18',     'Reason for Absence_19',\n",
       "           'Reason for Absence_21',     'Reason for Absence_22',\n",
       "           'Reason for Absence_23',     'Reason for Absence_24',\n",
       "           'Reason for Absence_25',     'Reason for Absence_26',\n",
       "           'Reason for Absence_27',     'Reason for Absence_28',\n",
       "                          'Age_28',                    'Age_29',\n",
       "                          'Age_30',                    'Age_31',\n",
       "                          'Age_32',                    'Age_33',\n",
       "                          'Age_34',                    'Age_36',\n",
       "                          'Age_37',                    'Age_38',\n",
       "                          'Age_39',                    'Age_40',\n",
       "                          'Age_41',                    'Age_43',\n",
       "                          'Age_46',                    'Age_47',\n",
       "                          'Age_48',                    'Age_49',\n",
       "                          'Age_50',                    'Age_58',\n",
       "                                 0,                           1,\n",
       "                                 2,                           3],\n",
       "      dtype='object')"
      ]
     },
     "metadata": {},
     "execution_count": 84
    }
   ],
   "metadata": {}
  },
  {
   "cell_type": "code",
   "execution_count": 85,
   "source": [
    "my_data_preprocessed.drop(labels=['Reason for Absence_1',\r\n",
    "            'Reason for Absence_2',      'Reason for Absence_3',\r\n",
    "            'Reason for Absence_4',      'Reason for Absence_5',\r\n",
    "            'Reason for Absence_6',      'Reason for Absence_7',\r\n",
    "            'Reason for Absence_8',      'Reason for Absence_9',\r\n",
    "           'Reason for Absence_10',     'Reason for Absence_11',\r\n",
    "           'Reason for Absence_12',     'Reason for Absence_13',\r\n",
    "           'Reason for Absence_14',     'Reason for Absence_15',\r\n",
    "           'Reason for Absence_16',     'Reason for Absence_17',\r\n",
    "           'Reason for Absence_18',     'Reason for Absence_19',\r\n",
    "           'Reason for Absence_21',     'Reason for Absence_22',\r\n",
    "           'Reason for Absence_23',     'Reason for Absence_24',\r\n",
    "           'Reason for Absence_25',     'Reason for Absence_26',\r\n",
    "           'Reason for Absence_27',     'Reason for Absence_28'], axis=1, inplace=True)"
   ],
   "outputs": [],
   "metadata": {}
  },
  {
   "cell_type": "code",
   "execution_count": 86,
   "source": [
    "my_data_preprocessed.columns"
   ],
   "outputs": [
    {
     "output_type": "execute_result",
     "data": {
      "text/plain": [
       "Index([                     'Date',    'Transportation Expense',\n",
       "                'Distance to Work',   'Daily Work Load Average',\n",
       "                 'Body Mass Index',                 'Education',\n",
       "                        'Children',                      'Pets',\n",
       "       'Absenteeism Time in Hours',                    'Age_28',\n",
       "                          'Age_29',                    'Age_30',\n",
       "                          'Age_31',                    'Age_32',\n",
       "                          'Age_33',                    'Age_34',\n",
       "                          'Age_36',                    'Age_37',\n",
       "                          'Age_38',                    'Age_39',\n",
       "                          'Age_40',                    'Age_41',\n",
       "                          'Age_43',                    'Age_46',\n",
       "                          'Age_47',                    'Age_48',\n",
       "                          'Age_49',                    'Age_50',\n",
       "                          'Age_58',                           0,\n",
       "                                 1,                           2,\n",
       "                                 3],\n",
       "      dtype='object')"
      ]
     },
     "metadata": {},
     "execution_count": 86
    }
   ],
   "metadata": {}
  },
  {
   "cell_type": "code",
   "execution_count": 87,
   "source": [
    "column_fix = [                     'Date',    'Transportation Expense',\r\n",
    "                'Distance to Work',   'Daily Work Load Average',\r\n",
    "                 'Body Mass Index',                 'Education',\r\n",
    "                        'Children',                      'Pets',\r\n",
    "       'Absenteeism Time in Hours',                    'Age_28',\r\n",
    "                          'Age_29',                    'Age_30',\r\n",
    "                          'Age_31',                    'Age_32',\r\n",
    "                          'Age_33',                    'Age_34',\r\n",
    "                          'Age_36',                    'Age_37',\r\n",
    "                          'Age_38',                    'Age_39',\r\n",
    "                          'Age_40',                    'Age_41',\r\n",
    "                          'Age_43',                    'Age_46',\r\n",
    "                          'Age_47',                    'Age_48',\r\n",
    "                          'Age_49',                    'Age_50',\r\n",
    "                          'Age_58',                    'Reason_1',\r\n",
    "                          'Reason_2',                  'Reason_3',\r\n",
    "                          'Reason_4']\r\n",
    "my_data_preprocessed.columns = column_fix                                 "
   ],
   "outputs": [],
   "metadata": {}
  },
  {
   "cell_type": "code",
   "execution_count": 88,
   "source": [
    "my_data_preprocessed.info(verbose=True)"
   ],
   "outputs": [
    {
     "output_type": "stream",
     "name": "stdout",
     "text": [
      "<class 'pandas.core.frame.DataFrame'>\n",
      "RangeIndex: 700 entries, 0 to 699\n",
      "Data columns (total 33 columns):\n",
      " #   Column                     Non-Null Count  Dtype  \n",
      "---  ------                     --------------  -----  \n",
      " 0   Date                       700 non-null    object \n",
      " 1   Transportation Expense     700 non-null    int64  \n",
      " 2   Distance to Work           700 non-null    int64  \n",
      " 3   Daily Work Load Average    700 non-null    float64\n",
      " 4   Body Mass Index            700 non-null    int64  \n",
      " 5   Education                  700 non-null    int64  \n",
      " 6   Children                   700 non-null    int64  \n",
      " 7   Pets                       700 non-null    int64  \n",
      " 8   Absenteeism Time in Hours  700 non-null    int64  \n",
      " 9   Age_28                     700 non-null    uint8  \n",
      " 10  Age_29                     700 non-null    uint8  \n",
      " 11  Age_30                     700 non-null    uint8  \n",
      " 12  Age_31                     700 non-null    uint8  \n",
      " 13  Age_32                     700 non-null    uint8  \n",
      " 14  Age_33                     700 non-null    uint8  \n",
      " 15  Age_34                     700 non-null    uint8  \n",
      " 16  Age_36                     700 non-null    uint8  \n",
      " 17  Age_37                     700 non-null    uint8  \n",
      " 18  Age_38                     700 non-null    uint8  \n",
      " 19  Age_39                     700 non-null    uint8  \n",
      " 20  Age_40                     700 non-null    uint8  \n",
      " 21  Age_41                     700 non-null    uint8  \n",
      " 22  Age_43                     700 non-null    uint8  \n",
      " 23  Age_46                     700 non-null    uint8  \n",
      " 24  Age_47                     700 non-null    uint8  \n",
      " 25  Age_48                     700 non-null    uint8  \n",
      " 26  Age_49                     700 non-null    uint8  \n",
      " 27  Age_50                     700 non-null    uint8  \n",
      " 28  Age_58                     700 non-null    uint8  \n",
      " 29  Reason_1                   700 non-null    uint8  \n",
      " 30  Reason_2                   700 non-null    uint8  \n",
      " 31  Reason_3                   700 non-null    uint8  \n",
      " 32  Reason_4                   700 non-null    uint8  \n",
      "dtypes: float64(1), int64(7), object(1), uint8(24)\n",
      "memory usage: 65.8+ KB\n"
     ]
    }
   ],
   "metadata": {}
  },
  {
   "cell_type": "code",
   "execution_count": 89,
   "source": [
    "my_data_names_reordered = ['Reason_1',\r\n",
    "                          'Reason_2',                  'Reason_3',\r\n",
    "                          'Reason_4',                     'Date',    'Transportation Expense',\r\n",
    "                'Distance to Work',   'Daily Work Load Average',\r\n",
    "                 'Body Mass Index',                 'Education',\r\n",
    "                        'Children',                      'Pets',\r\n",
    "       'Absenteeism Time in Hours',                    'Age_28',\r\n",
    "                          'Age_29',                    'Age_30',\r\n",
    "                          'Age_31',                    'Age_32',\r\n",
    "                          'Age_33',                    'Age_34',\r\n",
    "                          'Age_36',                    'Age_37',\r\n",
    "                          'Age_38',                    'Age_39',\r\n",
    "                          'Age_40',                    'Age_41',\r\n",
    "                          'Age_43',                    'Age_46',\r\n",
    "                          'Age_47',                    'Age_48',\r\n",
    "                          'Age_49',                    'Age_50',\r\n",
    "                          'Age_58']"
   ],
   "outputs": [],
   "metadata": {}
  },
  {
   "cell_type": "code",
   "execution_count": 90,
   "source": [
    "my_data_preprocessed = my_data_preprocessed[my_data_names_reordered]"
   ],
   "outputs": [],
   "metadata": {}
  },
  {
   "cell_type": "code",
   "execution_count": 91,
   "source": [
    "copy_my_data_preprocessed_checkpoint = my_data_preprocessed.copy()"
   ],
   "outputs": [],
   "metadata": {}
  },
  {
   "cell_type": "code",
   "execution_count": 92,
   "source": [
    "copy_my_data_preprocessed_checkpoint['Date'] = pd.to_datetime(copy_my_data_preprocessed_checkpoint[\"Date\"], format='%d/%m/%Y')"
   ],
   "outputs": [],
   "metadata": {}
  },
  {
   "cell_type": "code",
   "execution_count": 94,
   "source": [
    "copy_my_data_preprocessed_checkpoint.info()"
   ],
   "outputs": [
    {
     "output_type": "stream",
     "name": "stdout",
     "text": [
      "<class 'pandas.core.frame.DataFrame'>\n",
      "RangeIndex: 700 entries, 0 to 699\n",
      "Data columns (total 33 columns):\n",
      " #   Column                     Non-Null Count  Dtype         \n",
      "---  ------                     --------------  -----         \n",
      " 0   Reason_1                   700 non-null    uint8         \n",
      " 1   Reason_2                   700 non-null    uint8         \n",
      " 2   Reason_3                   700 non-null    uint8         \n",
      " 3   Reason_4                   700 non-null    uint8         \n",
      " 4   Date                       700 non-null    datetime64[ns]\n",
      " 5   Transportation Expense     700 non-null    int64         \n",
      " 6   Distance to Work           700 non-null    int64         \n",
      " 7   Daily Work Load Average    700 non-null    float64       \n",
      " 8   Body Mass Index            700 non-null    int64         \n",
      " 9   Education                  700 non-null    int64         \n",
      " 10  Children                   700 non-null    int64         \n",
      " 11  Pets                       700 non-null    int64         \n",
      " 12  Absenteeism Time in Hours  700 non-null    int64         \n",
      " 13  Age_28                     700 non-null    uint8         \n",
      " 14  Age_29                     700 non-null    uint8         \n",
      " 15  Age_30                     700 non-null    uint8         \n",
      " 16  Age_31                     700 non-null    uint8         \n",
      " 17  Age_32                     700 non-null    uint8         \n",
      " 18  Age_33                     700 non-null    uint8         \n",
      " 19  Age_34                     700 non-null    uint8         \n",
      " 20  Age_36                     700 non-null    uint8         \n",
      " 21  Age_37                     700 non-null    uint8         \n",
      " 22  Age_38                     700 non-null    uint8         \n",
      " 23  Age_39                     700 non-null    uint8         \n",
      " 24  Age_40                     700 non-null    uint8         \n",
      " 25  Age_41                     700 non-null    uint8         \n",
      " 26  Age_43                     700 non-null    uint8         \n",
      " 27  Age_46                     700 non-null    uint8         \n",
      " 28  Age_47                     700 non-null    uint8         \n",
      " 29  Age_48                     700 non-null    uint8         \n",
      " 30  Age_49                     700 non-null    uint8         \n",
      " 31  Age_50                     700 non-null    uint8         \n",
      " 32  Age_58                     700 non-null    uint8         \n",
      "dtypes: datetime64[ns](1), float64(1), int64(7), uint8(24)\n",
      "memory usage: 65.8 KB\n"
     ]
    }
   ],
   "metadata": {}
  }
 ],
 "metadata": {
  "kernelspec": {
   "name": "python3",
   "display_name": "Python 3.8.10 64-bit (windows store)"
  },
  "language_info": {
   "name": "python",
   "version": "3.8.10",
   "mimetype": "text/x-python",
   "codemirror_mode": {
    "name": "ipython",
    "version": 3
   },
   "pygments_lexer": "ipython3",
   "nbconvert_exporter": "python",
   "file_extension": ".py"
  },
  "interpreter": {
   "hash": "8a4473abb86bcdafceabd37651259593bd94b1da3a5661bdd90adfdc9ce6ad58"
  }
 },
 "nbformat": 4,
 "nbformat_minor": 2
}